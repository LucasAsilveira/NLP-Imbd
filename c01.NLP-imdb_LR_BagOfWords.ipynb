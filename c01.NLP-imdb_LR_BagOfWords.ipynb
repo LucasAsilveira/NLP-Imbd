{
 "cells": [
  {
   "cell_type": "markdown",
   "metadata": {
    "ExecuteTime": {
     "end_time": "2022-03-21T18:02:52.145726Z",
     "start_time": "2022-03-21T18:02:51.176117Z"
    }
   },
   "source": [
    "# 0.0 Imports"
   ]
  },
  {
   "cell_type": "markdown",
   "metadata": {
    "heading_collapsed": true
   },
   "source": [
    "## 0.1. Libries"
   ]
  },
  {
   "cell_type": "code",
   "execution_count": 1,
   "metadata": {
    "ExecuteTime": {
     "end_time": "2022-04-02T13:16:51.046087Z",
     "start_time": "2022-04-02T13:16:49.626697Z"
    },
    "hidden": true
   },
   "outputs": [],
   "source": [
    "import pandas as pd\n",
    "\n",
    "from sklearn.model_selection         import train_test_split\n",
    "from sklearn.linear_model            import LogisticRegression as lr\n",
    "from sklearn.feature_extraction.text import CountVectorizer"
   ]
  },
  {
   "cell_type": "markdown",
   "metadata": {},
   "source": [
    "## 0.2. Load Data"
   ]
  },
  {
   "cell_type": "code",
   "execution_count": 2,
   "metadata": {
    "ExecuteTime": {
     "end_time": "2022-04-02T13:16:52.358120Z",
     "start_time": "2022-04-02T13:16:51.059297Z"
    }
   },
   "outputs": [],
   "source": [
    "df_raw = pd.read_csv('data/imdb-reviews-pt-br.csv')"
   ]
  },
  {
   "cell_type": "markdown",
   "metadata": {
    "heading_collapsed": true
   },
   "source": [
    "## 0.3 Helper Functions"
   ]
  },
  {
   "cell_type": "code",
   "execution_count": 3,
   "metadata": {
    "ExecuteTime": {
     "end_time": "2022-04-02T13:16:52.368617Z",
     "start_time": "2022-04-02T13:16:52.361873Z"
    },
    "hidden": true
   },
   "outputs": [],
   "source": [
    "def classificar_texto(df, coluna_texto, target, n_features):\n",
    "\n",
    "    #Modelo do tipo bag_of_words usando CountVectorizer\n",
    "    vetorizar = CountVectorizer(lowercase=False, max_features = n_features)#max_features delimite o tamanho do vetor usado\n",
    "    bag_of_words = vetorizar.fit_transform(df[coluna_texto])\n",
    "\n",
    "    #separa treino e teste\n",
    "    treino, teste, classse_treino, classe_teste = train_test_split(bag_of_words,\n",
    "                                                                  df[target], \n",
    "                                                                  random_state = 42)\n",
    "    #treinar modelo\n",
    "    regressao_logistica = lr(solver = 'lbfgs')\n",
    "    regressao_logistica.fit(treino, classe_treino)\n",
    "    return regressao_logistica.score( teste, classe_teste )"
   ]
  },
  {
   "cell_type": "markdown",
   "metadata": {},
   "source": [
    "# 1.0. Data Description"
   ]
  },
  {
   "cell_type": "code",
   "execution_count": 4,
   "metadata": {
    "ExecuteTime": {
     "end_time": "2022-04-02T13:16:52.385158Z",
     "start_time": "2022-04-02T13:16:52.371886Z"
    }
   },
   "outputs": [],
   "source": [
    "df1 = df_raw.copy()"
   ]
  },
  {
   "cell_type": "markdown",
   "metadata": {},
   "source": [
    "## 1.1. Data Dimensions"
   ]
  },
  {
   "cell_type": "code",
   "execution_count": 5,
   "metadata": {
    "ExecuteTime": {
     "end_time": "2022-04-02T13:16:52.404927Z",
     "start_time": "2022-04-02T13:16:52.391638Z"
    }
   },
   "outputs": [
    {
     "name": "stdout",
     "output_type": "stream",
     "text": [
      "Number of Rows: 49459\n",
      "Number of cols: 4\n"
     ]
    }
   ],
   "source": [
    "print( 'Number of Rows: {}'.format( df1.shape[0] ) )\n",
    "print( 'Number of cols: {}'.format( df1.shape[1] ) )"
   ]
  },
  {
   "cell_type": "markdown",
   "metadata": {},
   "source": [
    "## 1.2. Data Types"
   ]
  },
  {
   "cell_type": "code",
   "execution_count": 6,
   "metadata": {
    "ExecuteTime": {
     "end_time": "2022-04-02T13:16:52.438119Z",
     "start_time": "2022-04-02T13:16:52.408844Z"
    }
   },
   "outputs": [
    {
     "data": {
      "text/plain": [
       "id            int64\n",
       "text_en      object\n",
       "text_pt      object\n",
       "sentiment    object\n",
       "dtype: object"
      ]
     },
     "execution_count": 6,
     "metadata": {},
     "output_type": "execute_result"
    }
   ],
   "source": [
    "df1.dtypes"
   ]
  },
  {
   "cell_type": "markdown",
   "metadata": {},
   "source": [
    "## 1.3. Check NA"
   ]
  },
  {
   "cell_type": "code",
   "execution_count": 7,
   "metadata": {
    "ExecuteTime": {
     "end_time": "2022-04-02T13:16:52.469266Z",
     "start_time": "2022-04-02T13:16:52.441957Z"
    }
   },
   "outputs": [
    {
     "data": {
      "text/plain": [
       "id           0\n",
       "text_en      0\n",
       "text_pt      0\n",
       "sentiment    0\n",
       "dtype: int64"
      ]
     },
     "execution_count": 7,
     "metadata": {},
     "output_type": "execute_result"
    }
   ],
   "source": [
    "df1.isna().sum()"
   ]
  },
  {
   "cell_type": "markdown",
   "metadata": {},
   "source": [
    "# 2.0 Feature Engineering"
   ]
  },
  {
   "cell_type": "code",
   "execution_count": 8,
   "metadata": {
    "ExecuteTime": {
     "end_time": "2022-04-02T13:16:52.495378Z",
     "start_time": "2022-04-02T13:16:52.477929Z"
    }
   },
   "outputs": [],
   "source": [
    "df2 = df1.copy()"
   ]
  },
  {
   "cell_type": "code",
   "execution_count": 9,
   "metadata": {
    "ExecuteTime": {
     "end_time": "2022-04-02T13:16:52.551113Z",
     "start_time": "2022-04-02T13:16:52.508532Z"
    }
   },
   "outputs": [],
   "source": [
    "#coluna classificação, transformar valores de sentiment para binario\n",
    "classificacao = df2['sentiment'].replace(['neg', 'pos'], [0,1])\n",
    "df2['classificacao'] = classificacao"
   ]
  },
  {
   "cell_type": "markdown",
   "metadata": {
    "ExecuteTime": {
     "end_time": "2022-03-21T18:26:01.578296Z",
     "start_time": "2022-03-21T18:26:01.566183Z"
    }
   },
   "source": [
    "# 3.0 EAD"
   ]
  },
  {
   "cell_type": "code",
   "execution_count": 10,
   "metadata": {
    "ExecuteTime": {
     "end_time": "2022-04-02T13:16:52.572355Z",
     "start_time": "2022-04-02T13:16:52.560285Z"
    }
   },
   "outputs": [],
   "source": [
    "df3 = df2.copy()"
   ]
  },
  {
   "cell_type": "code",
   "execution_count": 11,
   "metadata": {
    "ExecuteTime": {
     "end_time": "2022-04-02T13:16:52.602316Z",
     "start_time": "2022-04-02T13:16:52.579257Z"
    }
   },
   "outputs": [
    {
     "data": {
      "text/html": [
       "<div>\n",
       "<style scoped>\n",
       "    .dataframe tbody tr th:only-of-type {\n",
       "        vertical-align: middle;\n",
       "    }\n",
       "\n",
       "    .dataframe tbody tr th {\n",
       "        vertical-align: top;\n",
       "    }\n",
       "\n",
       "    .dataframe thead th {\n",
       "        text-align: right;\n",
       "    }\n",
       "</style>\n",
       "<table border=\"1\" class=\"dataframe\">\n",
       "  <thead>\n",
       "    <tr style=\"text-align: right;\">\n",
       "      <th></th>\n",
       "      <th>id</th>\n",
       "      <th>text_en</th>\n",
       "      <th>text_pt</th>\n",
       "      <th>sentiment</th>\n",
       "      <th>classificacao</th>\n",
       "    </tr>\n",
       "  </thead>\n",
       "  <tbody>\n",
       "    <tr>\n",
       "      <th>25590</th>\n",
       "      <td>25592</td>\n",
       "      <td>The saddest part of this is the fact that thes...</td>\n",
       "      <td>A parte mais triste disso é o fato de que esse...</td>\n",
       "      <td>neg</td>\n",
       "      <td>0</td>\n",
       "    </tr>\n",
       "    <tr>\n",
       "      <th>7616</th>\n",
       "      <td>7618</td>\n",
       "      <td>First of all, Id like to say I am a teenager s...</td>\n",
       "      <td>Primeiro de tudo, eu gostaria de dizer que eu ...</td>\n",
       "      <td>neg</td>\n",
       "      <td>0</td>\n",
       "    </tr>\n",
       "    <tr>\n",
       "      <th>23633</th>\n",
       "      <td>23635</td>\n",
       "      <td>I wanted to see this movie ever since the prev...</td>\n",
       "      <td>Eu queria ver esse filme desde que as prévias ...</td>\n",
       "      <td>pos</td>\n",
       "      <td>1</td>\n",
       "    </tr>\n",
       "    <tr>\n",
       "      <th>17936</th>\n",
       "      <td>17938</td>\n",
       "      <td>This is an entertaining surreal road movie. It...</td>\n",
       "      <td>Este é um divertido filme de estrada surreal. ...</td>\n",
       "      <td>pos</td>\n",
       "      <td>1</td>\n",
       "    </tr>\n",
       "    <tr>\n",
       "      <th>12564</th>\n",
       "      <td>12566</td>\n",
       "      <td>Dr. Ben McKenna James Stewart and Jo McKenna D...</td>\n",
       "      <td>Dr. Ben McKenna James Stewart e Jo McKenna Dor...</td>\n",
       "      <td>pos</td>\n",
       "      <td>1</td>\n",
       "    </tr>\n",
       "    <tr>\n",
       "      <th>34531</th>\n",
       "      <td>34533</td>\n",
       "      <td>Bridges of madison county is a better made ver...</td>\n",
       "      <td>Bridges of madison county é uma versão melhora...</td>\n",
       "      <td>neg</td>\n",
       "      <td>0</td>\n",
       "    </tr>\n",
       "    <tr>\n",
       "      <th>33880</th>\n",
       "      <td>33882</td>\n",
       "      <td>God this film was just so boring apart from th...</td>\n",
       "      <td>Deus, este filme foi tão chato, além da música...</td>\n",
       "      <td>neg</td>\n",
       "      <td>0</td>\n",
       "    </tr>\n",
       "    <tr>\n",
       "      <th>34444</th>\n",
       "      <td>34446</td>\n",
       "      <td>It definitely fits the time period as the Axis...</td>\n",
       "      <td>Isso definitivamente se encaixa no período de ...</td>\n",
       "      <td>neg</td>\n",
       "      <td>0</td>\n",
       "    </tr>\n",
       "    <tr>\n",
       "      <th>39674</th>\n",
       "      <td>39676</td>\n",
       "      <td>\"Bread\" very sharply skewers the conventions o...</td>\n",
       "      <td>\"Pão\" espeta muito agudamente as convenções de...</td>\n",
       "      <td>pos</td>\n",
       "      <td>1</td>\n",
       "    </tr>\n",
       "    <tr>\n",
       "      <th>9225</th>\n",
       "      <td>9227</td>\n",
       "      <td>Mr. Brento wonders if this movie was produced ...</td>\n",
       "      <td>Sr. Brento se pergunta se este filme foi produ...</td>\n",
       "      <td>neg</td>\n",
       "      <td>0</td>\n",
       "    </tr>\n",
       "  </tbody>\n",
       "</table>\n",
       "</div>"
      ],
      "text/plain": [
       "          id                                            text_en  \\\n",
       "25590  25592  The saddest part of this is the fact that thes...   \n",
       "7616    7618  First of all, Id like to say I am a teenager s...   \n",
       "23633  23635  I wanted to see this movie ever since the prev...   \n",
       "17936  17938  This is an entertaining surreal road movie. It...   \n",
       "12564  12566  Dr. Ben McKenna James Stewart and Jo McKenna D...   \n",
       "34531  34533  Bridges of madison county is a better made ver...   \n",
       "33880  33882  God this film was just so boring apart from th...   \n",
       "34444  34446  It definitely fits the time period as the Axis...   \n",
       "39674  39676  \"Bread\" very sharply skewers the conventions o...   \n",
       "9225    9227  Mr. Brento wonders if this movie was produced ...   \n",
       "\n",
       "                                                 text_pt sentiment  \\\n",
       "25590  A parte mais triste disso é o fato de que esse...       neg   \n",
       "7616   Primeiro de tudo, eu gostaria de dizer que eu ...       neg   \n",
       "23633  Eu queria ver esse filme desde que as prévias ...       pos   \n",
       "17936  Este é um divertido filme de estrada surreal. ...       pos   \n",
       "12564  Dr. Ben McKenna James Stewart e Jo McKenna Dor...       pos   \n",
       "34531  Bridges of madison county é uma versão melhora...       neg   \n",
       "33880  Deus, este filme foi tão chato, além da música...       neg   \n",
       "34444  Isso definitivamente se encaixa no período de ...       neg   \n",
       "39674  \"Pão\" espeta muito agudamente as convenções de...       pos   \n",
       "9225   Sr. Brento se pergunta se este filme foi produ...       neg   \n",
       "\n",
       "       classificacao  \n",
       "25590              0  \n",
       "7616               0  \n",
       "23633              1  \n",
       "17936              1  \n",
       "12564              1  \n",
       "34531              0  \n",
       "33880              0  \n",
       "34444              0  \n",
       "39674              1  \n",
       "9225               0  "
      ]
     },
     "execution_count": 11,
     "metadata": {},
     "output_type": "execute_result"
    }
   ],
   "source": [
    "df3.sample(10)"
   ]
  },
  {
   "cell_type": "markdown",
   "metadata": {},
   "source": [
    "## 3.1. Analisando text_pt"
   ]
  },
  {
   "cell_type": "markdown",
   "metadata": {},
   "source": [
    "> Aqui vamos dar uma olhada em uma resenha que seja positiva e uma negativa, para ver os tipos de palavras usadas e pensar como o algortmo poderia reconhecer uma resenha como positiva ou negativa. "
   ]
  },
  {
   "cell_type": "code",
   "execution_count": 12,
   "metadata": {
    "ExecuteTime": {
     "end_time": "2022-04-02T13:16:52.628366Z",
     "start_time": "2022-04-02T13:16:52.608050Z"
    }
   },
   "outputs": [
    {
     "name": "stdout",
     "output_type": "stream",
     "text": [
      "Negativa \n",
      "\n",
      "Este é sem dúvida o pior filme que eu já vi. E acredite em mim, eu vi muitos filmes. A reviravolta inacreditável que o filme faz - passando de um extremamente mau filme \"Formas de vida alienígenas habitam a terra\", com um filme que tenta espalhar um arquicristiano \"O dia do julgamento está próximo, buscar Jesus ou queimar por toda a eternidade em as dívidas ardentes do inferno \"mensagem - deixou-me atordoado depois de ter sido atormentado por 85 minutos. Até mesmo os cristãos religiosos devem se envergonhar ou ficar furiosos ao ver suas crenças postadas dessa maneira. Eu não sabia o que fazer comigo quando assisti a atuação horrível que poderia ter sido realizada por crianças de 7 anos de idade. Simplesmente repugnante. Eu não sou cristão nem muito religioso. Mas se eu estivesse, não teria mais medo do Inferno. Rich Christiano mostrou ser algo muito pior.\n"
     ]
    }
   ],
   "source": [
    "#exemplo de resenha negativa\n",
    "print('Negativa \\n')\n",
    "print(df3.text_pt[189])"
   ]
  },
  {
   "cell_type": "code",
   "execution_count": 13,
   "metadata": {
    "ExecuteTime": {
     "end_time": "2022-04-02T13:16:52.643200Z",
     "start_time": "2022-04-02T13:16:52.633749Z"
    }
   },
   "outputs": [
    {
     "name": "stdout",
     "output_type": "stream",
     "text": [
      "Positiva \n",
      "\n",
      "Crescendo em Nova York no final dos anos 80 e início dos anos 90, posso dizer pessoalmente que este é um dos documentários mais importantes feitos para cobrir esse lugar neste período de tempo. Não Madonna não veio com a idéia de Voguing, mas é de onde ela tirou! Em vez de combater a violência uns dos outros ou em brigas de gato, o voguing permitia que as pessoas \"lutassem\" dentro dos confins de tudo, menos que tocassem umas às outras, o que justificaria uma desqualificação automática. Vendo este tipo de extraordinariamente talentosas / bem orquestradas \"jogadas\" nos clubes foi nada menos do que espetacular e todos os grandes nomes de antigamente estão aqui ... Pepper La Beija, Paris Duprée, Xtragavaganza, etc. ..tudo comemorado nos gostos de peças de época como a música de Malcom McLarens \"Deep in Vogue\" ... não importava quem você era, ou de onde você era porque quando você passava por aquelas portas nesse \"reino mágico\" de De certa forma, você se tornou parte de algo maior que você / você era importante / e, o mais importante, a criação de seus próprios movimentos e imaginação ... e qualquer pessoa de qualquer lugar poderia se tornar Rei ou Rainha como poderia ter sido. As palavras e inteligência eram tão afiadas quanto os movimentos no chão. Toda a tensão, excitação e magia dessa energia urbana de NYC é capturada neste filme. BRILHANTE!!! POR FAVOR, LIBERE EM DVD para o mundo ver !!! Obrigado!\n"
     ]
    }
   ],
   "source": [
    "#exemplo de resenha positiva\n",
    "print('Positiva \\n')\n",
    "print(df3.text_pt[49002])"
   ]
  },
  {
   "cell_type": "markdown",
   "metadata": {},
   "source": [
    "## 3.2. Analisando variável alvo, classificacao"
   ]
  },
  {
   "cell_type": "code",
   "execution_count": 14,
   "metadata": {
    "ExecuteTime": {
     "end_time": "2022-04-02T13:16:52.678022Z",
     "start_time": "2022-04-02T13:16:52.648233Z"
    }
   },
   "outputs": [
    {
     "name": "stdout",
     "output_type": "stream",
     "text": [
      "0    50.07\n",
      "1    49.93\n",
      "Name: classificacao, dtype: float64\n"
     ]
    }
   ],
   "source": [
    "#Analisando o balanceamento\n",
    "print(round(df3.classificacao.value_counts(normalize=True)*100, 2) )"
   ]
  },
  {
   "cell_type": "markdown",
   "metadata": {},
   "source": [
    "> Temos a variável alvo bem balanceada, com praticamente metade indicando respostas positivas e metade respostas negativas. "
   ]
  },
  {
   "cell_type": "markdown",
   "metadata": {
    "heading_collapsed": true
   },
   "source": [
    "# 4.0 Data Preparation"
   ]
  },
  {
   "cell_type": "code",
   "execution_count": 15,
   "metadata": {
    "ExecuteTime": {
     "end_time": "2022-04-02T13:16:52.697333Z",
     "start_time": "2022-04-02T13:16:52.682138Z"
    },
    "hidden": true
   },
   "outputs": [],
   "source": [
    "df4 = df3.copy()"
   ]
  },
  {
   "cell_type": "code",
   "execution_count": 16,
   "metadata": {
    "ExecuteTime": {
     "end_time": "2022-04-02T13:16:52.725223Z",
     "start_time": "2022-04-02T13:16:52.701737Z"
    },
    "hidden": true
   },
   "outputs": [],
   "source": [
    "#Separar dados em treino e teste\n",
    "treino, teste, classe_treino, classe_teste = train_test_split(df4.text_pt, \n",
    "                                                              df4.classificacao,\n",
    "                                                              random_state = 42)"
   ]
  },
  {
   "cell_type": "markdown",
   "metadata": {
    "ExecuteTime": {
     "end_time": "2022-03-21T18:11:11.099779Z",
     "start_time": "2022-03-21T18:11:11.074180Z"
    }
   },
   "source": [
    "# 5.0 Machine Learning"
   ]
  },
  {
   "cell_type": "code",
   "execution_count": 17,
   "metadata": {
    "ExecuteTime": {
     "end_time": "2022-04-02T13:16:52.737150Z",
     "start_time": "2022-04-02T13:16:52.729729Z"
    }
   },
   "outputs": [],
   "source": [
    "df5 = df4.copy()"
   ]
  },
  {
   "cell_type": "markdown",
   "metadata": {},
   "source": [
    "##  LogisticRegression - Bag of Words "
   ]
  },
  {
   "cell_type": "markdown",
   "metadata": {},
   "source": [
    ">Usaremos o LogisticRegression como primeiro modelo para classificar os textos como boa avaliação ou ruim. \n",
    "\n",
    "> Para usarmos o LogisticRegression é necessário usar uma técnica de vetorização dos textos, foi usado o bag of words. "
   ]
  },
  {
   "cell_type": "code",
   "execution_count": 18,
   "metadata": {
    "ExecuteTime": {
     "end_time": "2022-04-02T13:17:02.093739Z",
     "start_time": "2022-04-02T13:16:52.740759Z"
    }
   },
   "outputs": [
    {
     "name": "stdout",
     "output_type": "stream",
     "text": [
      "Acuracia medida pelo score da regressao logistica é:  0.7534169025475131\n"
     ]
    }
   ],
   "source": [
    "acuracia = classificar_texto(df5, 'text_pt', 'classificacao', 200 )\n",
    "print('Acuracia medida pelo score da regressao logistica é: ', acuracia)\n"
   ]
  },
  {
   "cell_type": "markdown",
   "metadata": {},
   "source": [
    "> Neste primeiro ciclo, usando uma configuração de 200 para o tamanho da matriz do modelo de LogistcRegression, conseguimos obter uma acertividade de 75,34%"
   ]
  },
  {
   "cell_type": "code",
   "execution_count": null,
   "metadata": {},
   "outputs": [],
   "source": []
  }
 ],
 "metadata": {
  "kernelspec": {
   "display_name": "Python 3",
   "language": "python",
   "name": "python3"
  },
  "language_info": {
   "codemirror_mode": {
    "name": "ipython",
    "version": 3
   },
   "file_extension": ".py",
   "mimetype": "text/x-python",
   "name": "python",
   "nbconvert_exporter": "python",
   "pygments_lexer": "ipython3",
   "version": "3.7.6"
  }
 },
 "nbformat": 4,
 "nbformat_minor": 4
}
